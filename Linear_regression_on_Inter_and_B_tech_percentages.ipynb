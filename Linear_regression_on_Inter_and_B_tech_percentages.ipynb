{
  "nbformat": 4,
  "nbformat_minor": 0,
  "metadata": {
    "kernelspec": {
      "display_name": "Python 3",
      "language": "python",
      "name": "python3"
    },
    "language_info": {
      "codemirror_mode": {
        "name": "ipython",
        "version": 3
      },
      "file_extension": ".py",
      "mimetype": "text/x-python",
      "name": "python",
      "nbconvert_exporter": "python",
      "pygments_lexer": "ipython3",
      "version": "3.8.3"
    },
    "colab": {
      "name": "Linear regression on Inter and B.tech percentages.ipynb",
      "provenance": [],
      "include_colab_link": true
    }
  },
  "cells": [
    {
      "cell_type": "markdown",
      "metadata": {
        "id": "view-in-github",
        "colab_type": "text"
      },
      "source": [
        "<a href=\"https://colab.research.google.com/github/ganesh46/AI-LAB/blob/master/Linear_regression_on_Inter_and_B_tech_percentages.ipynb\" target=\"_parent\"><img src=\"https://colab.research.google.com/assets/colab-badge.svg\" alt=\"Open In Colab\"/></a>"
      ]
    },
    {
      "cell_type": "markdown",
      "metadata": {
        "id": "ukoKaZu_S3mT"
      },
      "source": [
        "# 5a) Prediction\n",
        "Consider a data set and perform univariate linear regression and find the coefficients. Show the relation between independent variable and dependent variable using scatter plot. \n",
        "Show the performance of the model using R-Square error, mean absolute error and Mean Square error.\n"
      ]
    },
    {
      "cell_type": "markdown",
      "metadata": {
        "id": "cOx0L4adS3ml"
      },
      "source": [
        "# Predict the B.Tech Percentage of a student based on his Intermediate percentage using univariate linear regression ."
      ]
    },
    {
      "cell_type": "code",
      "metadata": {
        "id": "lTGJf7haS3mm"
      },
      "source": [
        "# Import the required packages\n",
        "import pandas as pd # for handling data in the form of tables\n",
        "import numpy as np # For handling matrix\n",
        "from sklearn.model_selection import train_test_split # For spliting the data into train and test\n",
        "from sklearn.linear_model import LinearRegression # for using the model\n",
        "from sklearn import metrics\n",
        "import matplotlib.pyplot as plt # for plotting"
      ],
      "execution_count": null,
      "outputs": []
    },
    {
      "cell_type": "markdown",
      "metadata": {
        "id": "yzJoTy8rS3mn"
      },
      "source": [
        "## 1) Upload the data"
      ]
    },
    {
      "cell_type": "code",
      "metadata": {
        "id": "AB3KKnucS3mo"
      },
      "source": [
        "# Get the data in python environment\n",
        "stu_data=pd.read_csv(\"students_placement_data.csv\")"
      ],
      "execution_count": null,
      "outputs": []
    },
    {
      "cell_type": "code",
      "metadata": {
        "colab": {
          "base_uri": "https://localhost:8080/",
          "height": 241
        },
        "id": "C8qaMQz6S3mo",
        "outputId": "ac080814-6ca7-4835-dcb3-9570e36ea724"
      },
      "source": [
        "stu_data.head()"
      ],
      "execution_count": null,
      "outputs": [
        {
          "output_type": "execute_result",
          "data": {
            "text/html": [
              "<div>\n",
              "<style scoped>\n",
              "    .dataframe tbody tr th:only-of-type {\n",
              "        vertical-align: middle;\n",
              "    }\n",
              "\n",
              "    .dataframe tbody tr th {\n",
              "        vertical-align: top;\n",
              "    }\n",
              "\n",
              "    .dataframe thead th {\n",
              "        text-align: right;\n",
              "    }\n",
              "</style>\n",
              "<table border=\"1\" class=\"dataframe\">\n",
              "  <thead>\n",
              "    <tr style=\"text-align: right;\">\n",
              "      <th></th>\n",
              "      <th>Roll No</th>\n",
              "      <th>Gender</th>\n",
              "      <th>Section</th>\n",
              "      <th>SSC Percentage</th>\n",
              "      <th>inter_Diploma_percentage</th>\n",
              "      <th>B.Tech_percentage</th>\n",
              "      <th>Backlogs</th>\n",
              "      <th>registered_for_ Placement_Training</th>\n",
              "      <th>placement status</th>\n",
              "    </tr>\n",
              "  </thead>\n",
              "  <tbody>\n",
              "    <tr>\n",
              "      <th>0</th>\n",
              "      <td>1</td>\n",
              "      <td>M</td>\n",
              "      <td>A</td>\n",
              "      <td>87.3</td>\n",
              "      <td>65.3</td>\n",
              "      <td>40.00</td>\n",
              "      <td>18</td>\n",
              "      <td>NO</td>\n",
              "      <td>Not placed</td>\n",
              "    </tr>\n",
              "    <tr>\n",
              "      <th>1</th>\n",
              "      <td>2</td>\n",
              "      <td>F</td>\n",
              "      <td>A</td>\n",
              "      <td>89.0</td>\n",
              "      <td>92.4</td>\n",
              "      <td>71.45</td>\n",
              "      <td>0</td>\n",
              "      <td>yes</td>\n",
              "      <td>Placed</td>\n",
              "    </tr>\n",
              "    <tr>\n",
              "      <th>2</th>\n",
              "      <td>3</td>\n",
              "      <td>F</td>\n",
              "      <td>A</td>\n",
              "      <td>67.0</td>\n",
              "      <td>68.0</td>\n",
              "      <td>45.26</td>\n",
              "      <td>13</td>\n",
              "      <td>yes</td>\n",
              "      <td>Not placed</td>\n",
              "    </tr>\n",
              "    <tr>\n",
              "      <th>3</th>\n",
              "      <td>4</td>\n",
              "      <td>M</td>\n",
              "      <td>A</td>\n",
              "      <td>71.0</td>\n",
              "      <td>70.4</td>\n",
              "      <td>36.47</td>\n",
              "      <td>17</td>\n",
              "      <td>yes</td>\n",
              "      <td>Not placed</td>\n",
              "    </tr>\n",
              "    <tr>\n",
              "      <th>4</th>\n",
              "      <td>5</td>\n",
              "      <td>M</td>\n",
              "      <td>A</td>\n",
              "      <td>NaN</td>\n",
              "      <td>65.5</td>\n",
              "      <td>42.52</td>\n",
              "      <td>17</td>\n",
              "      <td>yes</td>\n",
              "      <td>Not placed</td>\n",
              "    </tr>\n",
              "  </tbody>\n",
              "</table>\n",
              "</div>"
            ],
            "text/plain": [
              "   Roll No Gender  ... registered_for_ Placement_Training  placement status\n",
              "0        1      M  ...                                 NO        Not placed\n",
              "1        2      F  ...                                yes            Placed\n",
              "2        3      F  ...                                yes        Not placed\n",
              "3        4      M  ...                                yes        Not placed\n",
              "4        5      M  ...                                yes        Not placed\n",
              "\n",
              "[5 rows x 9 columns]"
            ]
          },
          "metadata": {
            "tags": []
          },
          "execution_count": 3
        }
      ]
    },
    {
      "cell_type": "markdown",
      "metadata": {
        "id": "-2CM5rpCS3mq"
      },
      "source": [
        "## 2) Let's do some preliminary analysis.\n",
        "Find the relation between Intermediate and B.Tech percentage using a simple scatter plot using matplotlib."
      ]
    },
    {
      "cell_type": "code",
      "metadata": {
        "colab": {
          "base_uri": "https://localhost:8080/",
          "height": 298
        },
        "id": "8DzvqQm7S3mr",
        "outputId": "73ad30cc-8305-44ba-ca77-0185ec12e5f3"
      },
      "source": [
        "stu_data.plot(x='inter_Diploma_percentage',y='B.Tech_percentage',style='o')"
      ],
      "execution_count": null,
      "outputs": [
        {
          "output_type": "execute_result",
          "data": {
            "text/plain": [
              "<matplotlib.axes._subplots.AxesSubplot at 0x7f9155050828>"
            ]
          },
          "metadata": {
            "tags": []
          },
          "execution_count": 4
        },
        {
          "output_type": "display_data",
          "data": {
            "image/png": "[encoded data removed]",
            "text/plain": [
              "<Figure size 432x288 with 1 Axes>"
            ]
          },
          "metadata": {
            "tags": [],
            "needs_background": "light"
          }
        }
      ]
    },
    {
      "cell_type": "markdown",
      "metadata": {
        "id": "SFGNrDQWS3mr"
      },
      "source": [
        "### From the above graph, it is obvious that this is a possitive correlation between Intermediate and B.Tech percentage. \n",
        "+ve correlation: As, X increases, Y also increases"
      ]
    },
    {
      "cell_type": "markdown",
      "metadata": {
        "id": "YdCOVTcpS3ms"
      },
      "source": [
        "## 3) Now, convert the data into form understandable to machine learning model"
      ]
    },
    {
      "cell_type": "markdown",
      "metadata": {
        "id": "v67TfvpnS3ms"
      },
      "source": [
        "    Note that, the column values are in the form of series. But a model expect the values in the form of numpy array. So, we should convert the data into [n,1] array( n rows and 1 column )\n",
        "    \n",
        "    Now trying to reshape with (-1, 1) . We have provided column as 1 but rows as unknown . So we get result new shape as 2 dimentions."
      ]
    },
    {
      "cell_type": "code",
      "metadata": {
        "id": "QUrcEthNS3mt"
      },
      "source": [
        "x=stu_data[\"inter_Diploma_percentage\"].values.reshape(-1,1)\n",
        "y=stu_data[\"B.Tech_percentage\"].values.reshape(-1,1)"
      ],
      "execution_count": null,
      "outputs": []
    },
    {
      "cell_type": "code",
      "metadata": {
        "colab": {
          "base_uri": "https://localhost:8080/"
        },
        "id": "kC0EHTCYS3mt",
        "outputId": "390d61cc-eb64-4aa7-dcd0-8f045d65aee3"
      },
      "source": [
        "print(x.shape)\n",
        "print(y.shape)"
      ],
      "execution_count": null,
      "outputs": [
        {
          "output_type": "stream",
          "text": [
            "(117, 1)\n",
            "(117, 1)\n"
          ],
          "name": "stdout"
        }
      ]
    },
    {
      "cell_type": "markdown",
      "metadata": {
        "id": "MexcetnqS3mt"
      },
      "source": [
        "## 4) Divide the data into train and test"
      ]
    },
    {
      "cell_type": "code",
      "metadata": {
        "id": "sB86tetRS3mu"
      },
      "source": [
        "# Now divide the data into train and test. Here we are keeping 20% as our test set\n",
        "X_train,X_test,Y_train,Y_test=train_test_split(x,y,test_size=0.2,random_state=3)\n",
        "\n",
        "# random state controls the shuffling applied to the data before applying the split. "
      ],
      "execution_count": null,
      "outputs": []
    },
    {
      "cell_type": "code",
      "metadata": {
        "colab": {
          "base_uri": "https://localhost:8080/"
        },
        "id": "p3h637C-S3mu",
        "outputId": "72d36327-28ad-4066-df5c-e4102fc0dccd"
      },
      "source": [
        "# Printing X_train,X_test,Y_train,Y_test\n",
        "print(\"X_train- Training data (features) size is \",X_train.shape)\n",
        "print(\"X_test- Test data (features) size is \",X_test.shape)\n",
        "print(\"Y_train- Training data (labels) size is \",Y_train.shape)\n",
        "print(\"Y_test- Test data (labels) size is \",Y_test.shape)"
      ],
      "execution_count": null,
      "outputs": [
        {
          "output_type": "stream",
          "text": [
            "X_train- Training data (features) size is  (93, 1)\n",
            "X_test- Test data (features) size is  (24, 1)\n",
            "Y_train- Training data (labels) size is  (93, 1)\n",
            "Y_test- Test data (labels) size is  (24, 1)\n"
          ],
          "name": "stdout"
        }
      ]
    },
    {
      "cell_type": "markdown",
      "metadata": {
        "id": "kmhsr3C7S3mu"
      },
      "source": [
        "## 5) Apply the model on training dataset"
      ]
    },
    {
      "cell_type": "code",
      "metadata": {
        "colab": {
          "base_uri": "https://localhost:8080/"
        },
        "id": "pVIM1pkKS3mu",
        "outputId": "b0041700-aaba-4944-c267-1bc75ba1ff45"
      },
      "source": [
        "model=LinearRegression()\n",
        "model.fit(X_train,Y_train) \n",
        "# Using \"fit\" function data is given as input to the linear regressor and model is buit (m and c is calculated)."
      ],
      "execution_count": null,
      "outputs": [
        {
          "output_type": "execute_result",
          "data": {
            "text/plain": [
              "LinearRegression(copy_X=True, fit_intercept=True, n_jobs=None, normalize=False)"
            ]
          },
          "metadata": {
            "tags": []
          },
          "execution_count": 9
        }
      ]
    },
    {
      "cell_type": "markdown",
      "metadata": {
        "id": "cdIY-HfzS3mv"
      },
      "source": [
        "## 6) Get the parameters"
      ]
    },
    {
      "cell_type": "markdown",
      "metadata": {
        "id": "RsBGyTBmS3mv"
      },
      "source": [
        "### In y=mx+c, we know that c is intercept and m is slope."
      ]
    },
    {
      "cell_type": "code",
      "metadata": {
        "colab": {
          "base_uri": "https://localhost:8080/"
        },
        "id": "_rFMRVCWS3mv",
        "outputId": "57f6514a-d88d-4fb2-9532-cd089f88f45c"
      },
      "source": [
        "print(model.intercept_)  # This is our 'intercept'"
      ],
      "execution_count": null,
      "outputs": [
        {
          "output_type": "stream",
          "text": [
            "[1.27382373]\n"
          ],
          "name": "stdout"
        }
      ]
    },
    {
      "cell_type": "code",
      "metadata": {
        "colab": {
          "base_uri": "https://localhost:8080/"
        },
        "id": "4Zg-Z4tJS3mv",
        "outputId": "b8cf406d-0d49-4878-8d06-ddbaee5565ea"
      },
      "source": [
        "print(model.coef_) # This is our 'slope'"
      ],
      "execution_count": null,
      "outputs": [
        {
          "output_type": "stream",
          "text": [
            "[[0.76231957]]\n"
          ],
          "name": "stdout"
        }
      ]
    },
    {
      "cell_type": "markdown",
      "metadata": {
        "id": "re08SlyGS3mw"
      },
      "source": [
        "## 7) Now we apply the model on testset."
      ]
    },
    {
      "cell_type": "code",
      "metadata": {
        "colab": {
          "base_uri": "https://localhost:8080/"
        },
        "id": "b9A-1nFlS3mw",
        "outputId": "125416b2-2051-48f1-e501-8f1c01a9241c"
      },
      "source": [
        "predicted_btech=model.predict(X_test) # Predict the weights of people in based on their heights\n",
        "predicted_btech"
      ],
      "execution_count": null,
      "outputs": [
        {
          "output_type": "execute_result",
          "data": {
            "text/plain": [
              "array([[69.04403358],\n",
              "       [53.11155455],\n",
              "       [44.34487948],\n",
              "       [52.73039476],\n",
              "       [50.21474018],\n",
              "       [62.56431723],\n",
              "       [70.94983251],\n",
              "       [60.96344613],\n",
              "       [64.79791357],\n",
              "       [53.03532259],\n",
              "       [65.15620377],\n",
              "       [72.85563143],\n",
              "       [69.80635315],\n",
              "       [65.38489964],\n",
              "       [70.18751294],\n",
              "       [61.192142  ],\n",
              "       [51.20575562],\n",
              "       [47.24169385],\n",
              "       [56.9231524 ],\n",
              "       [57.22808023],\n",
              "       [61.03967809],\n",
              "       [46.25067841],\n",
              "       [65.61359551],\n",
              "       [66.83330682]])"
            ]
          },
          "metadata": {
            "tags": []
          },
          "execution_count": 12
        }
      ]
    },
    {
      "cell_type": "markdown",
      "metadata": {
        "id": "aN3CMZgzS3mw"
      },
      "source": [
        "## 8) Let's keep predicted B.Tech marks and Actual B.tech marks for better readability"
      ]
    },
    {
      "cell_type": "code",
      "metadata": {
        "colab": {
          "base_uri": "https://localhost:8080/",
          "height": 793
        },
        "id": "LMzwusfES3mw",
        "outputId": "9764e31a-248b-4b1c-b847-16f43bf3ba2d"
      },
      "source": [
        "#  flatten() function is used to get a copy of an given array collapsed into one dimension. \n",
        "Actual_predicted=pd.DataFrame({'predicted':predicted_btech.flatten(), 'Actual':Y_test.flatten()})\n",
        "Actual_predicted"
      ],
      "execution_count": null,
      "outputs": [
        {
          "output_type": "execute_result",
          "data": {
            "text/html": [
              "<div>\n",
              "<style scoped>\n",
              "    .dataframe tbody tr th:only-of-type {\n",
              "        vertical-align: middle;\n",
              "    }\n",
              "\n",
              "    .dataframe tbody tr th {\n",
              "        vertical-align: top;\n",
              "    }\n",
              "\n",
              "    .dataframe thead th {\n",
              "        text-align: right;\n",
              "    }\n",
              "</style>\n",
              "<table border=\"1\" class=\"dataframe\">\n",
              "  <thead>\n",
              "    <tr style=\"text-align: right;\">\n",
              "      <th></th>\n",
              "      <th>predicted</th>\n",
              "      <th>Actual</th>\n",
              "    </tr>\n",
              "  </thead>\n",
              "  <tbody>\n",
              "    <tr>\n",
              "      <th>0</th>\n",
              "      <td>69.044034</td>\n",
              "      <td>63.00</td>\n",
              "    </tr>\n",
              "    <tr>\n",
              "      <th>1</th>\n",
              "      <td>53.111555</td>\n",
              "      <td>62.20</td>\n",
              "    </tr>\n",
              "    <tr>\n",
              "      <th>2</th>\n",
              "      <td>44.344879</td>\n",
              "      <td>33.77</td>\n",
              "    </tr>\n",
              "    <tr>\n",
              "      <th>3</th>\n",
              "      <td>52.730395</td>\n",
              "      <td>45.45</td>\n",
              "    </tr>\n",
              "    <tr>\n",
              "      <th>4</th>\n",
              "      <td>50.214740</td>\n",
              "      <td>65.46</td>\n",
              "    </tr>\n",
              "    <tr>\n",
              "      <th>5</th>\n",
              "      <td>62.564317</td>\n",
              "      <td>72.73</td>\n",
              "    </tr>\n",
              "    <tr>\n",
              "      <th>6</th>\n",
              "      <td>70.949833</td>\n",
              "      <td>72.74</td>\n",
              "    </tr>\n",
              "    <tr>\n",
              "      <th>7</th>\n",
              "      <td>60.963446</td>\n",
              "      <td>55.82</td>\n",
              "    </tr>\n",
              "    <tr>\n",
              "      <th>8</th>\n",
              "      <td>64.797914</td>\n",
              "      <td>65.53</td>\n",
              "    </tr>\n",
              "    <tr>\n",
              "      <th>9</th>\n",
              "      <td>53.035323</td>\n",
              "      <td>53.26</td>\n",
              "    </tr>\n",
              "    <tr>\n",
              "      <th>10</th>\n",
              "      <td>65.156204</td>\n",
              "      <td>69.48</td>\n",
              "    </tr>\n",
              "    <tr>\n",
              "      <th>11</th>\n",
              "      <td>72.855631</td>\n",
              "      <td>78.60</td>\n",
              "    </tr>\n",
              "    <tr>\n",
              "      <th>12</th>\n",
              "      <td>69.806353</td>\n",
              "      <td>76.30</td>\n",
              "    </tr>\n",
              "    <tr>\n",
              "      <th>13</th>\n",
              "      <td>65.384900</td>\n",
              "      <td>72.57</td>\n",
              "    </tr>\n",
              "    <tr>\n",
              "      <th>14</th>\n",
              "      <td>70.187513</td>\n",
              "      <td>70.30</td>\n",
              "    </tr>\n",
              "    <tr>\n",
              "      <th>15</th>\n",
              "      <td>61.192142</td>\n",
              "      <td>35.84</td>\n",
              "    </tr>\n",
              "    <tr>\n",
              "      <th>16</th>\n",
              "      <td>51.205756</td>\n",
              "      <td>42.52</td>\n",
              "    </tr>\n",
              "    <tr>\n",
              "      <th>17</th>\n",
              "      <td>47.241694</td>\n",
              "      <td>54.74</td>\n",
              "    </tr>\n",
              "    <tr>\n",
              "      <th>18</th>\n",
              "      <td>56.923152</td>\n",
              "      <td>42.17</td>\n",
              "    </tr>\n",
              "    <tr>\n",
              "      <th>19</th>\n",
              "      <td>57.228080</td>\n",
              "      <td>52.00</td>\n",
              "    </tr>\n",
              "    <tr>\n",
              "      <th>20</th>\n",
              "      <td>61.039678</td>\n",
              "      <td>65.70</td>\n",
              "    </tr>\n",
              "    <tr>\n",
              "      <th>21</th>\n",
              "      <td>46.250678</td>\n",
              "      <td>51.06</td>\n",
              "    </tr>\n",
              "    <tr>\n",
              "      <th>22</th>\n",
              "      <td>65.613596</td>\n",
              "      <td>72.57</td>\n",
              "    </tr>\n",
              "    <tr>\n",
              "      <th>23</th>\n",
              "      <td>66.833307</td>\n",
              "      <td>75.96</td>\n",
              "    </tr>\n",
              "  </tbody>\n",
              "</table>\n",
              "</div>"
            ],
            "text/plain": [
              "    predicted  Actual\n",
              "0   69.044034   63.00\n",
              "1   53.111555   62.20\n",
              "2   44.344879   33.77\n",
              "3   52.730395   45.45\n",
              "4   50.214740   65.46\n",
              "5   62.564317   72.73\n",
              "6   70.949833   72.74\n",
              "7   60.963446   55.82\n",
              "8   64.797914   65.53\n",
              "9   53.035323   53.26\n",
              "10  65.156204   69.48\n",
              "11  72.855631   78.60\n",
              "12  69.806353   76.30\n",
              "13  65.384900   72.57\n",
              "14  70.187513   70.30\n",
              "15  61.192142   35.84\n",
              "16  51.205756   42.52\n",
              "17  47.241694   54.74\n",
              "18  56.923152   42.17\n",
              "19  57.228080   52.00\n",
              "20  61.039678   65.70\n",
              "21  46.250678   51.06\n",
              "22  65.613596   72.57\n",
              "23  66.833307   75.96"
            ]
          },
          "metadata": {
            "tags": []
          },
          "execution_count": 13
        }
      ]
    },
    {
      "cell_type": "markdown",
      "metadata": {
        "id": "K_gSA3qhS3mx"
      },
      "source": [
        "## 9) Let's see the performance of model visually\n",
        "Red points are actual B.tech score of students. And Blue line is model's approximation of B.tech percentage based on intermediate percentage "
      ]
    },
    {
      "cell_type": "code",
      "metadata": {
        "colab": {
          "base_uri": "https://localhost:8080/",
          "height": 297
        },
        "id": "hilTRHFgS3mx",
        "outputId": "de9c6747-e1d1-4ff0-eaf7-96e65fc58cb7"
      },
      "source": [
        "plt.scatter(X_test,Y_test,color='red') # Original values are plotted in red\n",
        "plt.plot(X_test,predicted_btech, color='blue') # Predicted values are plotted in blue\n",
        "plt.xlabel(\"Inter\") # Name of X-axis\n",
        "plt.ylabel(\"B.Tech\") # Name of Y-axis"
      ],
      "execution_count": null,
      "outputs": [
        {
          "output_type": "execute_result",
          "data": {
            "text/plain": [
              "Text(0, 0.5, 'B.Tech')"
            ]
          },
          "metadata": {
            "tags": []
          },
          "execution_count": 14
        },
        {
          "output_type": "display_data",
          "data": {
            "image/png": "[encoded data removed]",
            "text/plain": [
              "<Figure size 432x288 with 1 Axes>"
            ]
          },
          "metadata": {
            "tags": [],
            "needs_background": "light"
          }
        }
      ]
    },
    {
      "cell_type": "markdown",
      "metadata": {
        "id": "4qh-veH2S3mx"
      },
      "source": [
        "## 10) Check the performance of the model"
      ]
    },
    {
      "cell_type": "code",
      "metadata": {
        "colab": {
          "base_uri": "https://localhost:8080/"
        },
        "id": "RySghGyOS3mx",
        "outputId": "1dc36db4-855d-4aaa-c9e2-22a2d4d99720"
      },
      "source": [
        "print('Mean absolute error:',metrics.mean_absolute_error(Y_test, predicted_btech))\n",
        "print('Mean squared error:',metrics.mean_squared_error(Y_test, predicted_btech))\n",
        "print(\"R square\",metrics.r2_score(Y_test, predicted_btech))\n",
        "print('Root Mean squared error:',np.sqrt(metrics.mean_squared_error(Y_test, predicted_btech)))"
      ],
      "execution_count": null,
      "outputs": [
        {
          "output_type": "stream",
          "text": [
            "Mean absolute error: 7.384110415728863\n",
            "Mean squared error: 82.97454278530192\n",
            "R square 0.5197791413548358\n",
            "Root Mean squared error: 9.109036325830626\n"
          ],
          "name": "stdout"
        }
      ]
    },
    {
      "cell_type": "markdown",
      "metadata": {
        "id": "tO3GnIGpS3mx"
      },
      "source": [
        "## 11) Say a student got 95% in Intermediate. How much B.Tech percentage he/she scores in B.Tech?"
      ]
    },
    {
      "cell_type": "code",
      "metadata": {
        "colab": {
          "base_uri": "https://localhost:8080/"
        },
        "id": "ROWYVC70S3my",
        "outputId": "12b2601e-e53f-4db9-c6e9-534bdea7d409"
      },
      "source": [
        "a=np.array(95) # Let's predict the weight of a person given his height as 188 cm\n",
        "print(model.predict(a.reshape(1, -1)))"
      ],
      "execution_count": null,
      "outputs": [
        {
          "output_type": "stream",
          "text": [
            "[[73.69418296]]\n"
          ],
          "name": "stdout"
        }
      ]
    },
    {
      "cell_type": "markdown",
      "metadata": {
        "id": "xM73xvEBS3my"
      },
      "source": [
        "## So, he/she may score approximately 74% in B.Tech \n",
        "(Note the answer may vary because of random picking of rows in train and test set)"
      ]
    }
  ]
}