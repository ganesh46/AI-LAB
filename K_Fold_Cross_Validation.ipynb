{
  "nbformat": 4,
  "nbformat_minor": 0,
  "metadata": {
    "kernelspec": {
      "display_name": "Python 3",
      "language": "python",
      "name": "python3"
    },
    "language_info": {
      "codemirror_mode": {
        "name": "ipython",
        "version": 3
      },
      "file_extension": ".py",
      "mimetype": "text/x-python",
      "name": "python",
      "nbconvert_exporter": "python",
      "pygments_lexer": "ipython3",
      "version": "3.8.3"
    },
    "colab": {
      "name": "K Fold Cross Validation.ipynb",
      "provenance": [],
      "include_colab_link": true
    }
  },
  "cells": [
    {
      "cell_type": "markdown",
      "metadata": {
        "id": "view-in-github",
        "colab_type": "text"
      },
      "source": [
        "<a href=\"https://colab.research.google.com/github/ganesh46/AI-LAB/blob/master/K_Fold_Cross_Validation.ipynb\" target=\"_parent\"><img src=\"https://colab.research.google.com/assets/colab-badge.svg\" alt=\"Open In Colab\"/></a>"
      ]
    },
    {
      "cell_type": "markdown",
      "metadata": {
        "id": "qnrSmlYZVPQb"
      },
      "source": [
        "# K Fold Cross validation"
      ]
    },
    {
      "cell_type": "markdown",
      "metadata": {
        "id": "Q3HQ9vP5VPQg"
      },
      "source": [
        "## 1) Import the required packages"
      ]
    },
    {
      "cell_type": "code",
      "metadata": {
        "id": "tP_r8AAxVPQh"
      },
      "source": [
        "import pandas\n",
        "from sklearn.model_selection import KFold\n",
        "from sklearn.model_selection import cross_val_score\n",
        "from sklearn.preprocessing import MinMaxScaler\n",
        "from sklearn.linear_model import LinearRegression  \n",
        "import numpy as np"
      ],
      "execution_count": null,
      "outputs": []
    },
    {
      "cell_type": "markdown",
      "metadata": {
        "id": "W5M9VNzTVPQh"
      },
      "source": [
        "## 2) Import the dataset"
      ]
    },
    {
      "cell_type": "code",
      "metadata": {
        "colab": {
          "base_uri": "https://localhost:8080/",
          "height": 241
        },
        "id": "IHjDhJo5VPQi",
        "outputId": "9e2f0df0-923f-4a89-95a9-197dc6279e81"
      },
      "source": [
        "dataset = pandas.read_csv('students_placement_data.csv')\n",
        "dataset.head()"
      ],
      "execution_count": null,
      "outputs": [
        {
          "output_type": "execute_result",
          "data": {
            "text/html": [
              "<div>\n",
              "<style scoped>\n",
              "    .dataframe tbody tr th:only-of-type {\n",
              "        vertical-align: middle;\n",
              "    }\n",
              "\n",
              "    .dataframe tbody tr th {\n",
              "        vertical-align: top;\n",
              "    }\n",
              "\n",
              "    .dataframe thead th {\n",
              "        text-align: right;\n",
              "    }\n",
              "</style>\n",
              "<table border=\"1\" class=\"dataframe\">\n",
              "  <thead>\n",
              "    <tr style=\"text-align: right;\">\n",
              "      <th></th>\n",
              "      <th>Roll No</th>\n",
              "      <th>Gender</th>\n",
              "      <th>Section</th>\n",
              "      <th>SSC Percentage</th>\n",
              "      <th>inter_Diploma_percentage</th>\n",
              "      <th>B.Tech_percentage</th>\n",
              "      <th>Backlogs</th>\n",
              "      <th>registered_for_ Placement_Training</th>\n",
              "      <th>placement status</th>\n",
              "    </tr>\n",
              "  </thead>\n",
              "  <tbody>\n",
              "    <tr>\n",
              "      <th>0</th>\n",
              "      <td>1</td>\n",
              "      <td>M</td>\n",
              "      <td>A</td>\n",
              "      <td>87.3</td>\n",
              "      <td>65.3</td>\n",
              "      <td>40.00</td>\n",
              "      <td>18</td>\n",
              "      <td>NO</td>\n",
              "      <td>Not placed</td>\n",
              "    </tr>\n",
              "    <tr>\n",
              "      <th>1</th>\n",
              "      <td>2</td>\n",
              "      <td>F</td>\n",
              "      <td>A</td>\n",
              "      <td>89.0</td>\n",
              "      <td>92.4</td>\n",
              "      <td>71.45</td>\n",
              "      <td>0</td>\n",
              "      <td>yes</td>\n",
              "      <td>Placed</td>\n",
              "    </tr>\n",
              "    <tr>\n",
              "      <th>2</th>\n",
              "      <td>3</td>\n",
              "      <td>F</td>\n",
              "      <td>A</td>\n",
              "      <td>67.0</td>\n",
              "      <td>68.0</td>\n",
              "      <td>45.26</td>\n",
              "      <td>13</td>\n",
              "      <td>yes</td>\n",
              "      <td>Not placed</td>\n",
              "    </tr>\n",
              "    <tr>\n",
              "      <th>3</th>\n",
              "      <td>4</td>\n",
              "      <td>M</td>\n",
              "      <td>A</td>\n",
              "      <td>71.0</td>\n",
              "      <td>70.4</td>\n",
              "      <td>36.47</td>\n",
              "      <td>17</td>\n",
              "      <td>yes</td>\n",
              "      <td>Not placed</td>\n",
              "    </tr>\n",
              "    <tr>\n",
              "      <th>4</th>\n",
              "      <td>5</td>\n",
              "      <td>M</td>\n",
              "      <td>A</td>\n",
              "      <td>NaN</td>\n",
              "      <td>65.5</td>\n",
              "      <td>42.52</td>\n",
              "      <td>17</td>\n",
              "      <td>yes</td>\n",
              "      <td>Not placed</td>\n",
              "    </tr>\n",
              "  </tbody>\n",
              "</table>\n",
              "</div>"
            ],
            "text/plain": [
              "   Roll No Gender  ... registered_for_ Placement_Training  placement status\n",
              "0        1      M  ...                                 NO        Not placed\n",
              "1        2      F  ...                                yes            Placed\n",
              "2        3      F  ...                                yes        Not placed\n",
              "3        4      M  ...                                yes        Not placed\n",
              "4        5      M  ...                                yes        Not placed\n",
              "\n",
              "[5 rows x 9 columns]"
            ]
          },
          "metadata": {
            "tags": []
          },
          "execution_count": 2
        }
      ]
    },
    {
      "cell_type": "markdown",
      "metadata": {
        "id": "UAOji-_VVPQj"
      },
      "source": [
        "## 3) Remove missing values if any "
      ]
    },
    {
      "cell_type": "code",
      "metadata": {
        "id": "uk8XRJuSVPQj"
      },
      "source": [
        "dataset=dataset.fillna(method=\"ffill\") # Forward fill method is used. You may use any other method of your choice"
      ],
      "execution_count": null,
      "outputs": []
    },
    {
      "cell_type": "markdown",
      "metadata": {
        "id": "2GlyTmu3VPQk"
      },
      "source": [
        "## 4) Divide the data into features and class label\n",
        "Let's predict **B.Tech_percentage** based on **SSC Percentage**\tand **inter_Diploma_percentage** . I.e, perform multiple linear regression."
      ]
    },
    {
      "cell_type": "code",
      "metadata": {
        "colab": {
          "base_uri": "https://localhost:8080/"
        },
        "id": "Mkgj7JdCVPQk",
        "outputId": "910972f4-b397-4d09-947f-bae5fa3c5871"
      },
      "source": [
        "X = dataset.iloc[:, [3, 4]] # SSC Percentage and inter_Diploma_percentage are features.\n",
        "y = dataset.iloc[:, 5]  # B.Tech percentage.\n",
        "\n",
        "print(X[0:5]) # Let's display first 5 features.\n",
        "print(\"\\n\")\n",
        "print(y[0:5]) # let's display first 5 labels."
      ],
      "execution_count": null,
      "outputs": [
        {
          "output_type": "stream",
          "text": [
            "   SSC Percentage  inter_Diploma_percentage\n",
            "0            87.3                      65.3\n",
            "1            89.0                      92.4\n",
            "2            67.0                      68.0\n",
            "3            71.0                      70.4\n",
            "4            71.0                      65.5\n",
            "\n",
            "\n",
            "0    40.00\n",
            "1    71.45\n",
            "2    45.26\n",
            "3    36.47\n",
            "4    42.52\n",
            "Name: B.Tech_percentage, dtype: float64\n"
          ],
          "name": "stdout"
        }
      ]
    },
    {
      "cell_type": "markdown",
      "metadata": {
        "id": "XUYc-l1iVPQk"
      },
      "source": [
        "## 5) Normalize the data"
      ]
    },
    {
      "cell_type": "code",
      "metadata": {
        "colab": {
          "base_uri": "https://localhost:8080/"
        },
        "id": "LjazyjoMVPQk",
        "outputId": "3913d0ae-7dc0-4676-edbf-191a97b610a0"
      },
      "source": [
        "scaler = MinMaxScaler(feature_range=(0, 1)) # Let's normalize the data in range of 0 to 1 using MinMaxScaler\n",
        "X = scaler.fit_transform(X)\n",
        "X[0:5] # let's check first 5 values"
      ],
      "execution_count": null,
      "outputs": [
        {
          "output_type": "execute_result",
          "data": {
            "text/plain": [
              "array([[0.86131705, 0.29306488],\n",
              "       [0.89838639, 0.89932886],\n",
              "       [0.4186655 , 0.35346756],\n",
              "       [0.50588748, 0.40715884],\n",
              "       [0.50588748, 0.29753915]])"
            ]
          },
          "metadata": {
            "tags": []
          },
          "execution_count": 5
        }
      ]
    },
    {
      "cell_type": "markdown",
      "metadata": {
        "id": "Bdqvulb6VPQl"
      },
      "source": [
        "## 6) Apply the model on the data."
      ]
    },
    {
      "cell_type": "code",
      "metadata": {
        "id": "DUnvDmlnVPQl"
      },
      "source": [
        "model= LinearRegression() \n",
        "scores = cross_val_score(model, X, y, cv=3) # Here we are performing 3 fold cross validation."
      ],
      "execution_count": null,
      "outputs": []
    },
    {
      "cell_type": "markdown",
      "metadata": {
        "id": "XKeYasgxVPQl"
      },
      "source": [
        "## 7) Check the performance of the model."
      ]
    },
    {
      "cell_type": "code",
      "metadata": {
        "colab": {
          "base_uri": "https://localhost:8080/"
        },
        "id": "9Q7NvTHfVPQl",
        "outputId": "16863d77-574d-4db4-aca3-5680f5e6e182"
      },
      "source": [
        "print(scores) # We will get 3 scores. Because, we are using cv=3. \n",
        "\n",
        "# We average the scores for overall performance of the model. Not R2 Score is default measure.\n",
        "print(\"The overall r2 score of the model using cross_val_score\",np.mean(scores)) "
      ],
      "execution_count": null,
      "outputs": [
        {
          "output_type": "stream",
          "text": [
            "[0.55849429 0.73188684 0.12129382]\n",
            "The overall r2 score of the model using cross_val_score 0.47055831314866764\n"
          ],
          "name": "stdout"
        }
      ]
    },
    {
      "cell_type": "markdown",
      "metadata": {
        "id": "S3dnoFHHVPQm"
      },
      "source": [
        "# We have build a model using **cross_val_score.**"
      ]
    },
    {
      "cell_type": "markdown",
      "metadata": {
        "id": "2K9cAIA1VPQm"
      },
      "source": [
        "## Now, let's perform k fold cross validation using \"KFOLD in sklearn\" to demonstrate the working of k-fold cross validation. (optional- Only for understanding purpose)"
      ]
    },
    {
      "cell_type": "code",
      "metadata": {
        "colab": {
          "base_uri": "https://localhost:8080/"
        },
        "id": "9m_BsiElVPQm",
        "outputId": "ab83078c-20f8-4eab-b10f-1c03639de9b4"
      },
      "source": [
        "scores = [] # Take an empty array\n",
        "model1= LinearRegression() # Consider the regression model\n",
        "cross_val=KFold(n_splits=3) # Use 3 fold cross validation\n",
        "count_itr=0 # Initalize a counter (to display iteration number)\n",
        "for train_index, test_index in cross_val.split(X):\n",
        "    count_itr+=1 # Increment iteration number)\n",
        "    print(\"Iteration\",count_itr) # Print the iteration number\n",
        "    print(\"Train Index: \", train_index, \"\\n\") # Returns indexes of training data in each iteration\n",
        "    print(\"Test Index: \", test_index) # Returns indexes of test data in each iteration\n",
        "    print(\"\\n\")\n",
        "    # divide the data into train and test.\n",
        "    X_train, X_test, y_train, y_test = X[train_index], X[test_index], y[train_index], y[test_index] \n",
        "    \n",
        "    model1.fit(X_train, y_train) # Apply the model on training data\n",
        "    scores.append(model1.score(X_test, y_test)) # Store the score of each model in \"scores\" variable. \n",
        "    # Note default score is r2 score\n",
        "print(\"The individual r2 score of the model using KFOLD is\", scores) \n",
        "print(\"The overall r2 score of the model is using KFOLD\",np.mean(scores))"
      ],
      "execution_count": null,
      "outputs": [
        {
          "output_type": "stream",
          "text": [
            "Iteration 1\n",
            "Train Index:  [ 39  40  41  42  43  44  45  46  47  48  49  50  51  52  53  54  55  56\n",
            "  57  58  59  60  61  62  63  64  65  66  67  68  69  70  71  72  73  74\n",
            "  75  76  77  78  79  80  81  82  83  84  85  86  87  88  89  90  91  92\n",
            "  93  94  95  96  97  98  99 100 101 102 103 104 105 106 107 108 109 110\n",
            " 111 112 113 114 115 116] \n",
            "\n",
            "Test Index:  [ 0  1  2  3  4  5  6  7  8  9 10 11 12 13 14 15 16 17 18 19 20 21 22 23\n",
            " 24 25 26 27 28 29 30 31 32 33 34 35 36 37 38]\n",
            "\n",
            "\n",
            "Iteration 2\n",
            "Train Index:  [  0   1   2   3   4   5   6   7   8   9  10  11  12  13  14  15  16  17\n",
            "  18  19  20  21  22  23  24  25  26  27  28  29  30  31  32  33  34  35\n",
            "  36  37  38  78  79  80  81  82  83  84  85  86  87  88  89  90  91  92\n",
            "  93  94  95  96  97  98  99 100 101 102 103 104 105 106 107 108 109 110\n",
            " 111 112 113 114 115 116] \n",
            "\n",
            "Test Index:  [39 40 41 42 43 44 45 46 47 48 49 50 51 52 53 54 55 56 57 58 59 60 61 62\n",
            " 63 64 65 66 67 68 69 70 71 72 73 74 75 76 77]\n",
            "\n",
            "\n",
            "Iteration 3\n",
            "Train Index:  [ 0  1  2  3  4  5  6  7  8  9 10 11 12 13 14 15 16 17 18 19 20 21 22 23\n",
            " 24 25 26 27 28 29 30 31 32 33 34 35 36 37 38 39 40 41 42 43 44 45 46 47\n",
            " 48 49 50 51 52 53 54 55 56 57 58 59 60 61 62 63 64 65 66 67 68 69 70 71\n",
            " 72 73 74 75 76 77] \n",
            "\n",
            "Test Index:  [ 78  79  80  81  82  83  84  85  86  87  88  89  90  91  92  93  94  95\n",
            "  96  97  98  99 100 101 102 103 104 105 106 107 108 109 110 111 112 113\n",
            " 114 115 116]\n",
            "\n",
            "\n",
            "The individual r2 score of the model using KFOLD is [0.558494287368143, 0.731886835065412, 0.12129381701244801]\n",
            "The overall r2 score of the model is using KFOLD 0.47055831314866764\n"
          ],
          "name": "stdout"
        }
      ]
    }
  ]
}