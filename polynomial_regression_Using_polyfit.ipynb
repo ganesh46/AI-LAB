{
  "nbformat": 4,
  "nbformat_minor": 0,
  "metadata": {
    "kernelspec": {
      "display_name": "Python 3",
      "language": "python",
      "name": "python3"
    },
    "language_info": {
      "codemirror_mode": {
        "name": "ipython",
        "version": 3
      },
      "file_extension": ".py",
      "mimetype": "text/x-python",
      "name": "python",
      "nbconvert_exporter": "python",
      "pygments_lexer": "ipython3",
      "version": "3.8.3"
    },
    "colab": {
      "name": "polynomial regression- Using polyfit.ipynb",
      "provenance": [],
      "include_colab_link": true
    }
  },
  "cells": [
    {
      "cell_type": "markdown",
      "metadata": {
        "id": "view-in-github",
        "colab_type": "text"
      },
      "source": [
        "<a href=\"https://colab.research.google.com/github/ganesh46/AI-LAB/blob/master/polynomial_regression_Using_polyfit.ipynb\" target=\"_parent\"><img src=\"https://colab.research.google.com/assets/colab-badge.svg\" alt=\"Open In Colab\"/></a>"
      ]
    },
    {
      "cell_type": "markdown",
      "metadata": {
        "id": "rOcFsBnVWG4L"
      },
      "source": [
        "# Polynomial Regression"
      ]
    },
    {
      "cell_type": "markdown",
      "metadata": {
        "id": "SadajI9zWG4N"
      },
      "source": [
        "## Import the packages and create two vectors."
      ]
    },
    {
      "cell_type": "code",
      "metadata": {
        "id": "LglIgMgVWG4O"
      },
      "source": [
        "import matplotlib.pyplot as plt\n",
        "import numpy as np\n",
        "import pandas as pd\n",
        "x = np.array([0.0, 1.0, 2.0, 3.0,  4.0,  5.0])\n",
        "y = np.array([0.0, 0.8, 0.9, 0.1, -0.8, -1.0])"
      ],
      "execution_count": null,
      "outputs": []
    },
    {
      "cell_type": "markdown",
      "metadata": {
        "id": "O-R7QtWcWG4P"
      },
      "source": [
        "\n",
        "###  To specify the fit to 1st degree, we specify one in polyfit function."
      ]
    },
    {
      "cell_type": "code",
      "metadata": {
        "colab": {
          "base_uri": "https://localhost:8080/"
        },
        "id": "9oMph6ARWG4P",
        "outputId": "1a5de437-94d9-4760-dad7-a9302b57d1f4"
      },
      "source": [
        "z = np.polyfit(x, y,1) \n",
        "z"
      ],
      "execution_count": null,
      "outputs": [
        {
          "output_type": "execute_result",
          "data": {
            "text/plain": [
              "array([-0.30285714,  0.75714286])"
            ]
          },
          "metadata": {
            "tags": []
          },
          "execution_count": 2
        }
      ]
    },
    {
      "cell_type": "code",
      "metadata": {
        "colab": {
          "base_uri": "https://localhost:8080/"
        },
        "id": "K-ohJYrnWG4Q",
        "outputId": "7d3fb28d-d8a3-4d77-ad25-635a18c1f78c"
      },
      "source": [
        "# A convenience class, used to encapsulate “natural” operations on polynomials\n",
        "# so that said operations may take on their customary form in code\n",
        "p = np.poly1d(z)\n",
        "print(p)"
      ],
      "execution_count": null,
      "outputs": [
        {
          "output_type": "stream",
          "text": [
            " \n",
            "-0.3029 x + 0.7571\n"
          ],
          "name": "stdout"
        }
      ]
    },
    {
      "cell_type": "code",
      "metadata": {
        "colab": {
          "base_uri": "https://localhost:8080/",
          "height": 282
        },
        "id": "_i86-XKJWG4b",
        "outputId": "0284acf4-5817-4135-cda1-455e1e04497b"
      },
      "source": [
        "plt.plot(x, y,'.')\n",
        "plt.plot(x, p(x),'--')"
      ],
      "execution_count": null,
      "outputs": [
        {
          "output_type": "execute_result",
          "data": {
            "text/plain": [
              "[<matplotlib.lines.Line2D at 0x7f248aba4080>]"
            ]
          },
          "metadata": {
            "tags": []
          },
          "execution_count": 4
        },
        {
          "output_type": "display_data",
          "data": {
            "image/png": "[encoded data removed]",
            "text/plain": [
              "<Figure size 432x288 with 1 Axes>"
            ]
          },
          "metadata": {
            "tags": [],
            "needs_background": "light"
          }
        }
      ]
    },
    {
      "cell_type": "markdown",
      "metadata": {
        "id": "51sLHdsoWG4b"
      },
      "source": [
        "# 2nd degree polynomial "
      ]
    },
    {
      "cell_type": "markdown",
      "metadata": {
        "id": "I21pCyfQWG4c"
      },
      "source": [
        "\n",
        "### To specify the fit to 2nd degree, we specify two in polyfit function."
      ]
    },
    {
      "cell_type": "code",
      "metadata": {
        "colab": {
          "base_uri": "https://localhost:8080/"
        },
        "id": "GiKZ2J7XWG4c",
        "outputId": "b91a01a6-9d99-4210-ea4a-e785d12a4a5c"
      },
      "source": [
        "z = np.polyfit(x, y,2)\n",
        "z"
      ],
      "execution_count": null,
      "outputs": [
        {
          "output_type": "execute_result",
          "data": {
            "text/plain": [
              "array([-0.16071429,  0.50071429,  0.22142857])"
            ]
          },
          "metadata": {
            "tags": []
          },
          "execution_count": 5
        }
      ]
    },
    {
      "cell_type": "code",
      "metadata": {
        "colab": {
          "base_uri": "https://localhost:8080/"
        },
        "id": "qHaEemFwWG4d",
        "outputId": "af1e71d1-af69-4f47-a55b-fb44f03a1781"
      },
      "source": [
        "# A convenience class, used to encapsulate “natural” operations on polynomials\n",
        "# so that said operations may take on their customary form in code\n",
        "p = np.poly1d(z)\n",
        "print(p)"
      ],
      "execution_count": null,
      "outputs": [
        {
          "output_type": "stream",
          "text": [
            "         2\n",
            "-0.1607 x + 0.5007 x + 0.2214\n"
          ],
          "name": "stdout"
        }
      ]
    },
    {
      "cell_type": "code",
      "metadata": {
        "colab": {
          "base_uri": "https://localhost:8080/",
          "height": 285
        },
        "id": "al9aq_uIWG4d",
        "outputId": "7736914e-3651-4625-df8d-1c51aa9d1a07"
      },
      "source": [
        "plt.plot(x, y,'.')\n",
        "plt.plot(x, p(x),'--')"
      ],
      "execution_count": null,
      "outputs": [
        {
          "output_type": "execute_result",
          "data": {
            "text/plain": [
              "[<matplotlib.lines.Line2D at 0x7f248ab4f7b8>]"
            ]
          },
          "metadata": {
            "tags": []
          },
          "execution_count": 7
        },
        {
          "output_type": "display_data",
          "data": {
            "image/png": "[encoded data removed]",
            "text/plain": [
              "<Figure size 432x288 with 1 Axes>"
            ]
          },
          "metadata": {
            "tags": [],
            "needs_background": "light"
          }
        }
      ]
    },
    {
      "cell_type": "markdown",
      "metadata": {
        "id": "1V4NVGoyWG4e"
      },
      "source": [
        "# 3rd degree polynomial "
      ]
    },
    {
      "cell_type": "markdown",
      "metadata": {
        "id": "xuwRftNQWG4e"
      },
      "source": [
        "### To specify the fit to 3rd degree, we specify three in polyfit function."
      ]
    },
    {
      "cell_type": "code",
      "metadata": {
        "colab": {
          "base_uri": "https://localhost:8080/"
        },
        "id": "lySkSzchWG4f",
        "outputId": "a7bb71e9-af6b-4661-ab6b-161c5b3ea058"
      },
      "source": [
        "z = np.polyfit(x, y,3)\n",
        "z"
      ],
      "execution_count": null,
      "outputs": [
        {
          "output_type": "execute_result",
          "data": {
            "text/plain": [
              "array([ 0.08703704, -0.81349206,  1.69312169, -0.03968254])"
            ]
          },
          "metadata": {
            "tags": []
          },
          "execution_count": 8
        }
      ]
    },
    {
      "cell_type": "code",
      "metadata": {
        "colab": {
          "base_uri": "https://localhost:8080/"
        },
        "id": "hJcBbiqoWG4f",
        "outputId": "25e0d651-1850-4cd8-d95b-f8ee4ad3d622"
      },
      "source": [
        "# A convenience class, used to encapsulate “natural” operations on polynomials\n",
        "# so that said operations may take on their customary form in code\n",
        "p = np.poly1d(z)\n",
        "print(p)"
      ],
      "execution_count": null,
      "outputs": [
        {
          "output_type": "stream",
          "text": [
            "         3          2\n",
            "0.08704 x - 0.8135 x + 1.693 x - 0.03968\n"
          ],
          "name": "stdout"
        }
      ]
    },
    {
      "cell_type": "code",
      "metadata": {
        "colab": {
          "base_uri": "https://localhost:8080/",
          "height": 284
        },
        "id": "_WfpyrahWG4g",
        "outputId": "78fb6c76-2d16-405a-e55e-407f2a683b0b"
      },
      "source": [
        "plt.plot(x, y,'.')\n",
        "plt.plot(x, p(x),'--')"
      ],
      "execution_count": null,
      "outputs": [
        {
          "output_type": "execute_result",
          "data": {
            "text/plain": [
              "[<matplotlib.lines.Line2D at 0x7f248a6934e0>]"
            ]
          },
          "metadata": {
            "tags": []
          },
          "execution_count": 10
        },
        {
          "output_type": "display_data",
          "data": {
            "image/png": "[encoded data removed]",
            "text/plain": [
              "<Figure size 432x288 with 1 Axes>"
            ]
          },
          "metadata": {
            "tags": [],
            "needs_background": "light"
          }
        }
      ]
    },
    {
      "cell_type": "markdown",
      "metadata": {
        "id": "vA4XyDy6WG4g"
      },
      "source": [
        "# 4th degree polynomial "
      ]
    },
    {
      "cell_type": "markdown",
      "metadata": {
        "id": "uVmmspj3WG4h"
      },
      "source": [
        "### To specify the fit to 4th degree, we specify four in polyfit function."
      ]
    },
    {
      "cell_type": "code",
      "metadata": {
        "colab": {
          "base_uri": "https://localhost:8080/"
        },
        "id": "KAj-bgqaWG4h",
        "outputId": "c06032c6-b1b8-4e7e-ea82-ff8753e378a1"
      },
      "source": [
        "z = np.polyfit(x, y,4)\n",
        "z"
      ],
      "execution_count": null,
      "outputs": [
        {
          "output_type": "execute_result",
          "data": {
            "text/plain": [
              "array([ 0.02083333, -0.1212963 , -0.17361111,  1.0978836 , -0.00396825])"
            ]
          },
          "metadata": {
            "tags": []
          },
          "execution_count": 11
        }
      ]
    },
    {
      "cell_type": "code",
      "metadata": {
        "colab": {
          "base_uri": "https://localhost:8080/"
        },
        "id": "s0hsYCiwWG4h",
        "outputId": "a2f575b9-fe2e-4ca1-cf11-cd366590789a"
      },
      "source": [
        "# A convenience class, used to encapsulate “natural” operations on polynomials\n",
        "# so that said operations may take on their customary form in code\n",
        "p = np.poly1d(z)\n",
        "print(p)"
      ],
      "execution_count": null,
      "outputs": [
        {
          "output_type": "stream",
          "text": [
            "         4          3          2\n",
            "0.02083 x - 0.1213 x - 0.1736 x + 1.098 x - 0.003968\n"
          ],
          "name": "stdout"
        }
      ]
    },
    {
      "cell_type": "code",
      "metadata": {
        "colab": {
          "base_uri": "https://localhost:8080/",
          "height": 282
        },
        "id": "xnhkNTVLWG4i",
        "outputId": "a7fc3477-9809-454a-940e-75645a16d3e0"
      },
      "source": [
        "plt.plot(x, y,'.')\n",
        "plt.plot(x, p(x),'--')"
      ],
      "execution_count": null,
      "outputs": [
        {
          "output_type": "execute_result",
          "data": {
            "text/plain": [
              "[<matplotlib.lines.Line2D at 0x7f248a63e908>]"
            ]
          },
          "metadata": {
            "tags": []
          },
          "execution_count": 13
        },
        {
          "output_type": "display_data",
          "data": {
            "image/png": "[encoded data removed]",
            "text/plain": [
              "<Figure size 432x288 with 1 Axes>"
            ]
          },
          "metadata": {
            "tags": [],
            "needs_background": "light"
          }
        }
      ]
    },
    {
      "cell_type": "markdown",
      "metadata": {
        "id": "4cjy4SxUWG4i"
      },
      "source": [
        "# Polynomial of degree 2 is fitting the data properly"
      ]
    }
  ]
}